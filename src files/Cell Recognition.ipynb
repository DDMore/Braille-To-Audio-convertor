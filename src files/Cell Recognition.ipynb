{
 "cells": [
  {
   "cell_type": "code",
   "execution_count": 12,
   "metadata": {
    "collapsed": true
   },
   "outputs": [],
   "source": [
    "no =0"
   ]
  },
  {
   "cell_type": "code",
   "execution_count": 13,
   "metadata": {},
   "outputs": [
    {
     "data": {
      "image/png": "[encoded data removed]",
      "text/plain": [
       "<matplotlib.figure.Figure at 0x7fdebdaadfd0>"
      ]
     },
     "metadata": {},
     "output_type": "display_data"
    }
   ],
   "source": [
    "import cv2\n",
    "import numpy as np\n",
    "import imutils\n",
    "import matplotlib.pyplot as plt\n",
    "from PIL import Image\n",
    "\n",
    "\n",
    "image = cv2.imread('/home/dmm/Braille-To-Audio-convertor/created images/braille_cell.png')\n",
    "image1 = cv2.imread('/home/dmm/Braille-To-Audio-convertor/created images/braille_cell.png')\n",
    "plt.imshow(image)\n",
    "plt.show()\n"
   ]
  },
  {
   "cell_type": "code",
   "execution_count": 14,
   "metadata": {},
   "outputs": [
    {
     "name": "stdout",
     "output_type": "stream",
     "text": [
      "2933\n"
     ]
    }
   ],
   "source": [
    "import cv2\n",
    "img = cv2.imread(\"/home/dmm/Braille-To-Audio-convertor/created images/braille_cell1.png\")\n",
    "crop_img = []\n",
    "x = 0\n",
    "y = 47\n",
    "w = img.shape[1]\n",
    "h = 33\n",
    "print(img.shape[1])\n",
    "for i in range(0, len(img)):\n",
    "    crop_img.append(img[y:y+h, x:x+w])\n",
    "    \n",
    "\n",
    "    x += (w + 2)\n",
    "    if x > (img.shape[1]):\n",
    "        x = 0\n",
    "        y += h+9\n",
    "        if y > img.shape[0]:\n",
    "            break\n",
    "       "
   ]
  },
  {
   "cell_type": "code",
   "execution_count": null,
   "metadata": {
    "collapsed": true
   },
   "outputs": [],
   "source": []
  },
  {
   "cell_type": "code",
   "execution_count": 15,
   "metadata": {},
   "outputs": [
    {
     "name": "stdout",
     "output_type": "stream",
     "text": [
      "21\n"
     ]
    }
   ],
   "source": [
    "print(len(crop_img))\n",
    "for i in range(0, (len(crop_img) - 1)):\n",
    "    plt.imsave('/home/dmm/Braille-To-Audio-convertor/created images/image_lines/'+str(i)+'.png',crop_img[i])"
   ]
  },
  {
   "cell_type": "code",
   "execution_count": 16,
   "metadata": {},
   "outputs": [
    {
     "name": "stdout",
     "output_type": "stream",
     "text": [
      "2933\n"
     ]
    }
   ],
   "source": [
    "print(crop_img[0].shape[1])"
   ]
  },
  {
   "cell_type": "code",
   "execution_count": 17,
   "metadata": {},
   "outputs": [],
   "source": [
    "for j in range(0, (len(crop_img)-1)):\n",
    "    x = 7\n",
    "    y = 0\n",
    "    cnt = 0\n",
    "    char_cnt = 0\n",
    "    for i in range(0, (crop_img[0].shape[1])):\n",
    "        if(x > crop_img[0].shape[1]): break\n",
    "        crop_image = crop_img[j][y:y+31, x:x+25]\n",
    "        cv2.imwrite('/home/dmm/Braille-To-Audio-convertor/created images/braille_cells/cell_'+str(i)+'.png',crop_image)\n",
    "        file_in = '/home/dmm/Braille-To-Audio-convertor/created images/braille_cells/cell_'+str(i)+'.png'\n",
    "        img = Image.open(file_in)\n",
    "        extrema = img.convert(\"L\").getextrema()\n",
    "        if extrema != (0, 0):\n",
    "            char_cnt+= 1\n",
    "            cnt = 0\n",
    "        if extrema == (0, 0):\n",
    "            cnt+= 1\n",
    "        if cnt > 2 and char_cnt > 0: \n",
    "            break\n",
    "        file_out = '/home/dmm/Braille-To-Audio-convertor/created images/Braille_Characters/'+str(no)+'.bmp' # test\n",
    "        if len(img.split()) == 4:\n",
    "            \n",
    "            r, g, b, a = img.split()\n",
    "            img = Image.merge(\"RGB\", (r, g, b))\n",
    "            img.save(file_out)\n",
    "        else:\n",
    "            img.save(file_out)\n",
    "        cv2.rectangle(crop_img[j],(x,y),(x+25,y+31),(0,255,0),1)\n",
    "        x += 25\n",
    "        no += 1\n",
    "    "
   ]
  },
  {
   "cell_type": "code",
   "execution_count": null,
   "metadata": {
    "collapsed": true
   },
   "outputs": [],
   "source": []
  },
  {
   "cell_type": "code",
   "execution_count": null,
   "metadata": {
    "collapsed": true
   },
   "outputs": [],
   "source": []
  },
  {
   "cell_type": "code",
   "execution_count": null,
   "metadata": {
    "collapsed": true
   },
   "outputs": [],
   "source": []
  },
  {
   "cell_type": "code",
   "execution_count": null,
   "metadata": {
    "collapsed": true
   },
   "outputs": [],
   "source": []
  },
  {
   "cell_type": "code",
   "execution_count": null,
   "metadata": {
    "collapsed": true
   },
   "outputs": [],
   "source": []
  },
  {
   "cell_type": "code",
   "execution_count": null,
   "metadata": {
    "collapsed": true
   },
   "outputs": [],
   "source": []
  },
  {
   "cell_type": "code",
   "execution_count": null,
   "metadata": {
    "collapsed": true
   },
   "outputs": [],
   "source": []
  },
  {
   "cell_type": "code",
   "execution_count": null,
   "metadata": {
    "collapsed": true
   },
   "outputs": [],
   "source": []
  },
  {
   "cell_type": "code",
   "execution_count": null,
   "metadata": {
    "collapsed": true
   },
   "outputs": [],
   "source": []
  },
  {
   "cell_type": "code",
   "execution_count": null,
   "metadata": {
    "collapsed": true
   },
   "outputs": [],
   "source": []
  },
  {
   "cell_type": "code",
   "execution_count": null,
   "metadata": {
    "collapsed": true
   },
   "outputs": [],
   "source": []
  },
  {
   "cell_type": "code",
   "execution_count": null,
   "metadata": {
    "collapsed": true
   },
   "outputs": [],
   "source": []
  },
  {
   "cell_type": "code",
   "execution_count": null,
   "metadata": {
    "collapsed": true
   },
   "outputs": [],
   "source": []
  },
  {
   "cell_type": "code",
   "execution_count": null,
   "metadata": {
    "collapsed": true
   },
   "outputs": [],
   "source": []
  }
 ],
 "metadata": {
  "anaconda-cloud": {},
  "kernelspec": {
   "display_name": "Python 3",
   "language": "python",
   "name": "python3"
  },
  "language_info": {
   "codemirror_mode": {
    "name": "ipython",
    "version": 3
   },
   "file_extension": ".py",
   "mimetype": "text/x-python",
   "name": "python",
   "nbconvert_exporter": "python",
   "pygments_lexer": "ipython3",
   "version": "3.6.3"
  }
 },
 "nbformat": 4,
 "nbformat_minor": 1
}
