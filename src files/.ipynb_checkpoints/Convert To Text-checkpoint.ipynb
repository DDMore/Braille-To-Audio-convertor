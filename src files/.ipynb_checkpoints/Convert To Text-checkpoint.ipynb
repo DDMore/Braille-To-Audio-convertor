{
 "cells": [
  {
   "cell_type": "code",
   "execution_count": 4,
   "metadata": {},
   "outputs": [],
   "source": [
    "from sklearn.neighbors import KNeighborsClassifier\n",
    "\n",
    "from sklearn.preprocessing import scale\n",
    "\n",
    "\n",
    "from scipy.ndimage import convolve\n",
    "from sklearn.learning_curve import learning_curve\n",
    "from skimage import draw, data, io, segmentation, color, exposure\n",
    "from skimage.measure import regionprops\n",
    "from skimage.filters import threshold_otsu\n",
    "from skimage.transform import resize \n",
    "from skimage.transform import warp \n",
    "from PIL import Image\n",
    "\n",
    "import pickle\n",
    "import pandas as pd\n",
    "import numpy as np\n",
    "from pprint import pprint\n",
    "from PIL import Image\n",
    "from gtts import gTTS\n",
    "import os"
   ]
  },
  {
   "cell_type": "code",
   "execution_count": null,
   "metadata": {
    "collapsed": true
   },
   "outputs": [],
   "source": []
  },
  {
   "cell_type": "code",
   "execution_count": 5,
   "metadata": {
    "collapsed": true
   },
   "outputs": [],
   "source": [
    "import math\n",
    "\n",
    "def img_round(x, base=75):\n",
    "\n",
    "    return (base * math.floor(float(x)/base))\n",
    "vround = np.vectorize(img_round) \n",
    "\n",
    "def get_img(i, size):\n",
    "    img = Image.open('/home/dmm/ocrfiless/train/'+ str(i+1) + '.bmp')\n",
    "    img = img.convert(\"L\")\n",
    "    img = img.resize((size,size))\n",
    "    image = np.asarray(img)\n",
    "    image.setflags(write=True)\n",
    "    return image\n",
    "\n",
    "def nudge_dataset(X, Y, size):\n",
    "    direction_vectors = [\n",
    "        [[0, 1, 0],\n",
    "         [0, 0, 0],\n",
    "         [0, 0, 0]],\n",
    "\n",
    "        [[0, 0, 0],\n",
    "         [1, 0, 0],\n",
    "         [0, 0, 0]],\n",
    "\n",
    "        [[0, 0, 0],\n",
    "         [0, 0, 1],\n",
    "         [0, 0, 0]],\n",
    "\n",
    "        [[0, 0, 0],\n",
    "         [0, 0, 0],\n",
    "         [0, 1, 0]]]\n",
    "\n",
    "    shift = lambda x, w: convolve(x.reshape((size, size)), mode='constant',\n",
    "                                  weights=w).ravel()\n",
    "    X = np.concatenate([X] +\n",
    "                       [np.apply_along_axis(shift, 1, X, vector)\n",
    "                        for vector in direction_vectors])\n",
    "    Y = np.concatenate([Y for _ in range(5)], axis=0)\n",
    "    return X, Y\n",
    "\n",
    "def show_img(img):\n",
    "    width = 5.0\n",
    "    height = img.shape[0]*width/img.shape[1]\n",
    "    f = plt.figure(figsize=(width, height))\n",
    "    plt.imshow(img)"
   ]
  },
  {
   "cell_type": "code",
   "execution_count": 6,
   "metadata": {},
   "outputs": [
    {
     "name": "stdout",
     "output_type": "stream",
     "text": [
      "(10141, 2500) (10141,)\n"
     ]
    }
   ],
   "source": [
    "#df = pd.read_csv('/home/dmm/OCR files/trainLabels.csv', header=0)\n",
    "df = pd.read_csv('/home/dmm/ocrfiless/a.csv', header=0)\n",
    "raw_y = np.asarray(df['Class'])\n",
    "raw_x = np.asarray([get_img(i, 50) for i in df.index]).astype(float)\n",
    "x = np.asarray([i.ravel() for i in raw_x])\n",
    "y = raw_y\n",
    "print (x.shape, y.shape)"
   ]
  },
  {
   "cell_type": "code",
   "execution_count": 7,
   "metadata": {
    "collapsed": true
   },
   "outputs": [],
   "source": [
    "def get_test_img(i):\n",
    "    img = Image.open('/home/dmm/Braille-To-Audio-convertor/created images/Braille_Characters/'+ str(i) + '.bmp')\n",
    "    img = img.convert(\"L\")\n",
    "    img = img.resize((50,50))\n",
    "    image = np.asarray(img)\n",
    "    image.setflags(write=True)\n",
    "\n",
    "    return image"
   ]
  },
  {
   "cell_type": "code",
   "execution_count": 8,
   "metadata": {
    "collapsed": true
   },
   "outputs": [],
   "source": [
    "from sklearn.cross_validation import train_test_split\n",
    "X_train, X_test, Y_train, Y_test = train_test_split(x, y)\n",
    "\n",
    "X_train, Y_train = nudge_dataset(X_train, Y_train, 50)\n",
    "\n"
   ]
  },
  {
   "cell_type": "code",
   "execution_count": 62,
   "metadata": {},
   "outputs": [
    {
     "name": "stdout",
     "output_type": "stream",
     "text": [
      "DONE\n"
     ]
    }
   ],
   "source": [
    "knn = KNeighborsClassifier(n_neighbors=5)\n",
    "knn.fit(X_train, Y_train)\n",
    "print('DONE')"
   ]
  },
  {
   "cell_type": "code",
   "execution_count": 63,
   "metadata": {},
   "outputs": [
    {
     "name": "stdout",
     "output_type": "stream",
     "text": [
      " walfhand  follege of  engineering is sit uat ed midway bet ween  sangli and  mirai fit ies at   lishrambag*  sangliw    y  t he   wfe fammus is lofat ed on about  yii                                                                           y afres of land on sout hern side of                                                                                   y  sangli  u  mirai roadw                                                                                             y                                                                                                                     y    in yaidg* t he follege made a modest  beginning as  new  engineering                                               y  follege* wit h a single mrogram leading                                                                             y t o w bww ew  filil degreew                                             "
     ]
    }
   ],
   "source": [
    "from random import randint\n",
    "\n",
    "random_image = 898\n",
    "String=\"\"\n",
    "for i in range(1,random_image):\n",
    "    char=str(knn.predict([get_test_img(i).ravel()])).strip('[]\\'')\n",
    "    if char==\"space\":\n",
    "        char=\" \"\n",
    "    print(char,end=\"\")    \n",
    "    String=String+char \n",
    "    "
   ]
  },
  {
   "cell_type": "code",
   "execution_count": null,
   "metadata": {
    "collapsed": true
   },
   "outputs": [],
   "source": []
  },
  {
   "cell_type": "code",
   "execution_count": null,
   "metadata": {
    "collapsed": true
   },
   "outputs": [],
   "source": []
  },
  {
   "cell_type": "code",
   "execution_count": 64,
   "metadata": {},
   "outputs": [
    {
     "data": {
      "text/plain": [
       "32512"
      ]
     },
     "execution_count": 64,
     "metadata": {},
     "output_type": "execute_result"
    }
   ],
   "source": [
    "tts = gTTS(text=String, lang='en')\n",
    "tts.save(\"/home/dmm/out.mp3\")\n",
    "os.system(\"mpg321 /home/dmm/out.mp3\")"
   ]
  },
  {
   "cell_type": "markdown",
   "metadata": {},
   "source": [
    "# "
   ]
  },
  {
   "cell_type": "code",
   "execution_count": 9,
   "metadata": {
    "collapsed": true
   },
   "outputs": [],
   "source": [
    "from sklearn import svm"
   ]
  },
  {
   "cell_type": "code",
   "execution_count": null,
   "metadata": {
    "collapsed": true
   },
   "outputs": [],
   "source": []
  },
  {
   "cell_type": "code",
   "execution_count": 10,
   "metadata": {
    "collapsed": true
   },
   "outputs": [],
   "source": [
    "model = svm.SVC(kernel='linear', gamma=1) \n",
    "# there is various option associated with it, like changing kernel, gamma and C value. Will discuss more # about it in next section.Train the model using the training sets and check score\n"
   ]
  },
  {
   "cell_type": "code",
   "execution_count": 11,
   "metadata": {},
   "outputs": [
    {
     "data": {
      "text/plain": [
       "SVC(C=1.0, cache_size=200, class_weight=None, coef0=0.0,\n",
       "  decision_function_shape='ovr', degree=3, gamma=1, kernel='linear',\n",
       "  max_iter=-1, probability=False, random_state=None, shrinking=True,\n",
       "  tol=0.001, verbose=False)"
      ]
     },
     "execution_count": 11,
     "metadata": {},
     "output_type": "execute_result"
    }
   ],
   "source": [
    "model.fit(X_train, Y_train)"
   ]
  },
  {
   "cell_type": "code",
   "execution_count": null,
   "metadata": {},
   "outputs": [],
   "source": []
  },
  {
   "cell_type": "code",
   "execution_count": 12,
   "metadata": {},
   "outputs": [
    {
     "name": "stdout",
     "output_type": "stream",
     "text": [
      " walchand  college of  engineering is situated midway between  sangli and  miraj cities at  uishrambag*  sangli.    q  the   wce camqus is located on about y ij                                                                           q acres of land on southern side of                                                                                   q  sangli e-  miraj road.                                                                                             q                                                                                                                     q    in y aidg* the college made a modest beginning as  new  engineering                                               q  college* with a single qrogram leading                                                                             q to e b.e e.  ciuil degree.                                             "
     ]
    }
   ],
   "source": [
    "from random import randint\n",
    "\n",
    "random_image = 898\n",
    "String=\"\"\n",
    "for i in range(1,random_image):\n",
    "    char=str(model.predict([get_test_img(i).ravel()])).strip('[]\\'')\n",
    "    if char==\"space\":\n",
    "        char=\" \"       \n",
    "    String=String+char \n",
    "    "
   ]
  },
  {
   "cell_type": "code",
   "execution_count": 13,
   "metadata": {
    "collapsed": true
   },
   "outputs": [],
   "source": [
    "def trimString(Str):\n",
    "    i=0\n",
    "    for ch in Str:\n",
    "        if ch==\" \":\n",
    "            if i==0:\n",
    "                print(ch,end=\"\")\n",
    "                i=i+1\n",
    "        else:\n",
    "            print(ch,end=\"\")\n",
    "            i=0"
   ]
  },
  {
   "cell_type": "code",
   "execution_count": null,
   "metadata": {
    "collapsed": true
   },
   "outputs": [],
   "source": []
  },
  {
   "cell_type": "code",
   "execution_count": 14,
   "metadata": {},
   "outputs": [
    {
     "name": "stdout",
     "output_type": "stream",
     "text": [
      " walchand college of engineering is situated midway between sangli and miraj cities at uishrambag* sangli. q the wce camqus is located on about y ij q acres of land on southern side of q sangli e- miraj road. q q in y aidg* the college made a modest beginning as new engineering q college* with a single qrogram leading q to e b.e e. ciuil degree. "
     ]
    }
   ],
   "source": [
    "trimString(String)"
   ]
  },
  {
   "cell_type": "code",
   "execution_count": null,
   "metadata": {
    "collapsed": true
   },
   "outputs": [],
   "source": []
  },
  {
   "cell_type": "code",
   "execution_count": null,
   "metadata": {
    "collapsed": true
   },
   "outputs": [],
   "source": []
  },
  {
   "cell_type": "code",
   "execution_count": null,
   "metadata": {
    "collapsed": true
   },
   "outputs": [],
   "source": []
  },
  {
   "cell_type": "code",
   "execution_count": null,
   "metadata": {
    "collapsed": true
   },
   "outputs": [],
   "source": []
  },
  {
   "cell_type": "code",
   "execution_count": null,
   "metadata": {
    "collapsed": true
   },
   "outputs": [],
   "source": []
  },
  {
   "cell_type": "code",
   "execution_count": null,
   "metadata": {
    "collapsed": true
   },
   "outputs": [],
   "source": []
  },
  {
   "cell_type": "code",
   "execution_count": null,
   "metadata": {
    "collapsed": true
   },
   "outputs": [],
   "source": []
  },
  {
   "cell_type": "code",
   "execution_count": null,
   "metadata": {
    "collapsed": true
   },
   "outputs": [],
   "source": []
  },
  {
   "cell_type": "code",
   "execution_count": null,
   "metadata": {
    "collapsed": true
   },
   "outputs": [],
   "source": []
  },
  {
   "cell_type": "code",
   "execution_count": null,
   "metadata": {
    "collapsed": true
   },
   "outputs": [],
   "source": []
  }
 ],
 "metadata": {
  "anaconda-cloud": {},
  "kernelspec": {
   "display_name": "Python 3",
   "language": "python",
   "name": "python3"
  },
  "language_info": {
   "codemirror_mode": {
    "name": "ipython",
    "version": 3
   },
   "file_extension": ".py",
   "mimetype": "text/x-python",
   "name": "python",
   "nbconvert_exporter": "python",
   "pygments_lexer": "ipython3",
   "version": "3.6.3"
  }
 },
 "nbformat": 4,
 "nbformat_minor": 1
}
